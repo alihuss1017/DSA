{
 "cells": [
  {
   "attachments": {},
   "cell_type": "markdown",
   "metadata": {},
   "source": [
    "### Lists\n",
    "\n",
    "Ordered collections of data, immutable. Insertion and deletion is costly. "
   ]
  },
  {
   "cell_type": "code",
   "execution_count": 3,
   "metadata": {},
   "outputs": [
    {
     "name": "stdout",
     "output_type": "stream",
     "text": [
      "[1, 2, 'hello', 4]\n",
      "2\n",
      "4\n",
      "world\n"
     ]
    }
   ],
   "source": [
    "list = [1,2, 'hello', 4]\n",
    "print(list)\n",
    "\n",
    "# multi-dimensional list\n",
    "list2 = [['hello', 'world'], ['yo']]\n",
    "\n",
    "#accessing an element using index numbers\n",
    "print(list[1]) # second element\n",
    "print(list[-1]) # last element\n",
    "print(list2[0][1]) # first row, second column"
   ]
  },
  {
   "attachments": {},
   "cell_type": "markdown",
   "metadata": {},
   "source": [
    "### Tuples\n",
    "\n",
    "Similar to lists but immutable."
   ]
  },
  {
   "cell_type": "code",
   "execution_count": 5,
   "metadata": {},
   "outputs": [
    {
     "name": "stdout",
     "output_type": "stream",
     "text": [
      "('Ali', 'Huss')\n",
      "1\n",
      "4\n"
     ]
    }
   ],
   "source": [
    "Tuple = (\"Ali\", \"Huss\")\n",
    "print(Tuple)\n",
    "\n",
    "#casting list as tuple\n",
    "list = [1,2,3,4,5]\n",
    "Tuple = tuple(list)\n",
    "\n",
    "#accessing element using indexing\n",
    "print(Tuple[0]) #first element\n",
    "print(Tuple[-2]) #second last element"
   ]
  },
  {
   "attachments": {},
   "cell_type": "markdown",
   "metadata": {},
   "source": [
    "### Sets\n",
    "\n",
    "Mutable collection of data with no dupes."
   ]
  },
  {
   "cell_type": "code",
   "execution_count": 6,
   "metadata": {},
   "outputs": [
    {
     "name": "stdout",
     "output_type": "stream",
     "text": [
      "{1, 2, 3, 4}\n"
     ]
    }
   ],
   "source": [
    "Set = set([1,2,4,3,4])\n",
    "print(Set)"
   ]
  },
  {
   "attachments": {},
   "cell_type": "markdown",
   "metadata": {},
   "source": [
    "### Frozen Sets\n",
    "\n",
    "Immutable objects that only support methods and operatores that produce aresult without affecting the set itself."
   ]
  },
  {
   "cell_type": "code",
   "execution_count": 9,
   "metadata": {},
   "outputs": [
    {
     "name": "stdout",
     "output_type": "stream",
     "text": [
      "frozenset({'e', 'f', 'g'})\n"
     ]
    }
   ],
   "source": [
    "frozen_set =frozenset(['e', 'f', 'g'])\n",
    "print(frozen_set)\n",
    "\n",
    "#frozen_set.add(\"h\") \n",
    "\n",
    "# will result in error"
   ]
  },
  {
   "attachments": {},
   "cell_type": "markdown",
   "metadata": {},
   "source": [
    "### Strings\n",
    "\n",
    "Immutable array of bytes. Modifying strings will result in creating new copies."
   ]
  },
  {
   "cell_type": "code",
   "execution_count": 10,
   "metadata": {},
   "outputs": [
    {
     "name": "stdout",
     "output_type": "stream",
     "text": [
      "Ali Hussain\n",
      "A\n",
      "n\n"
     ]
    }
   ],
   "source": [
    "string = \"Ali Hussain\"\n",
    "print(string)\n",
    "print(string[0]) #first element\n",
    "print(string[-1]) #last element"
   ]
  },
  {
   "attachments": {},
   "cell_type": "markdown",
   "metadata": {},
   "source": [
    "### Dictionary\n",
    "\n",
    "Unordered collection of data that stores data in the format of key:value pair. Of any hashable type i.e. strings, tuples"
   ]
  },
  {
   "cell_type": "code",
   "execution_count": 12,
   "metadata": {},
   "outputs": [
    {
     "name": "stdout",
     "output_type": "stream",
     "text": [
      "{'Name': 'Ali Hussain', 1: [1, 2, 3, 4]}\n",
      "Ali Hussain\n",
      "[1, 2, 3, 4]\n",
      "{1: 1, 2: 4, 3: 9, 4: 16, 5: 25}\n"
     ]
    }
   ],
   "source": [
    "Dict = {'Name': 'Ali Hussain', 1: [1,2,3,4]}\n",
    "print(Dict)\n",
    "\n",
    "#accessing element using key\n",
    "print(Dict['Name'])\n",
    "\n",
    "#accessing element using get() method\n",
    "print(Dict.get(1))\n",
    "\n",
    "#dictionary using dictionary comprehension\n",
    "myDict = {x:x**2 for x in [1,2,3,4,5]}\n",
    "print(myDict)"
   ]
  },
  {
   "attachments": {},
   "cell_type": "markdown",
   "metadata": {},
   "source": [
    "### Matrix \n"
   ]
  },
  {
   "cell_type": "code",
   "execution_count": 9,
   "metadata": {},
   "outputs": [
    {
     "name": "stdout",
     "output_type": "stream",
     "text": [
      "[[ 1  2  3  4]\n",
      " [ 4  5  5  1]\n",
      " [ 8  3 20  1]\n",
      " [ 1  2  3  5]]\n",
      "[[ 1  2  3  4  4  5  5  1]\n",
      " [ 8  3 20  1  1  2  3  5]]\n"
     ]
    }
   ],
   "source": [
    "import numpy as np\n",
    "a = np.array([[1,2,3,4],[4,5,5,1],[8,3,20,1], [1,2,3,5]])\n",
    "print(a)"
   ]
  },
  {
   "cell_type": "code",
   "execution_count": null,
   "metadata": {},
   "outputs": [],
   "source": [
    "# Reshape from 4x4 to 2x8\n",
    "m = np.reshape(a,(2,8)) \n",
    "print(m)"
   ]
  },
  {
   "cell_type": "code",
   "execution_count": null,
   "metadata": {},
   "outputs": [],
   "source": [
    "#accessing element\n",
    "print(a[1]) # second row\n",
    "print(a[2][0]) #third row, first column"
   ]
  },
  {
   "cell_type": "code",
   "execution_count": 14,
   "metadata": {},
   "outputs": [
    {
     "name": "stdout",
     "output_type": "stream",
     "text": [
      "[[ 1  2  3  4]\n",
      " [ 4  5  5  1]\n",
      " [ 8  3 20  1]\n",
      " [ 1  2  3  5]\n",
      " [ 1 15 13 11]]\n"
     ]
    }
   ],
   "source": [
    "#adding element\n",
    "m = np.append(a, [[1,15,13,11]], 0)\n",
    "print(m)"
   ]
  },
  {
   "cell_type": "code",
   "execution_count": 15,
   "metadata": {},
   "outputs": [
    {
     "name": "stdout",
     "output_type": "stream",
     "text": [
      "[[ 1  2  3  4]\n",
      " [ 8  3 20  1]\n",
      " [ 1  2  3  5]\n",
      " [ 1 15 13 11]]\n"
     ]
    }
   ],
   "source": [
    "#deleting element\n",
    "m = np.delete(m, [1], 0) # delete second row\n",
    "print(m)"
   ]
  },
  {
   "attachments": {},
   "cell_type": "markdown",
   "metadata": {},
   "source": [
    "### bytearray\n",
    "\n",
    "gives a mutable sequence of integers in range [0,256)"
   ]
  },
  {
   "cell_type": "code",
   "execution_count": 20,
   "metadata": {},
   "outputs": [
    {
     "name": "stdout",
     "output_type": "stream",
     "text": [
      "bytearray(b'\\x0c\\x08\\x19\\x02')\n",
      "8\n",
      "bytearray(b'\\x0c\\x03\\x19\\x02')\n",
      "bytearray(b'\\x0c\\x03\\x19\\x02\\x1e')\n"
     ]
    }
   ],
   "source": [
    "a = bytearray((12,8,25,2))\n",
    "print(a)\n",
    "\n",
    "#accessing elements\n",
    "print(a[1]) #2nd element\n",
    "\n",
    "#modifying elements\n",
    "a[1] = 3 #change 2nd element from 8 to 3\n",
    "print(a)\n",
    "\n",
    "#adding elements\n",
    "a.append(30)\n",
    "print(a)\n"
   ]
  }
 ],
 "metadata": {
  "kernelspec": {
   "display_name": "Python 3",
   "language": "python",
   "name": "python3"
  },
  "language_info": {
   "codemirror_mode": {
    "name": "ipython",
    "version": 3
   },
   "file_extension": ".py",
   "mimetype": "text/x-python",
   "name": "python",
   "nbconvert_exporter": "python",
   "pygments_lexer": "ipython3",
   "version": "3.10.0"
  },
  "orig_nbformat": 4
 },
 "nbformat": 4,
 "nbformat_minor": 2
}
