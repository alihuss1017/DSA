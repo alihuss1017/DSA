{
 "cells": [
  {
   "attachments": {},
   "cell_type": "markdown",
   "metadata": {},
   "source": [
    "### Linked List\n",
    "\n",
    "Linear Data structure. Elements are linked using pointers. Represented by a pointer to the first node, or the head, of the linked list.<br>\n",
    "\n",
    " Each node has: <ul> <li> data <li> a pointer to the next node </ul>\n",
    "\n",
    "![](images/linkedlist.png)"
   ]
  },
  {
   "cell_type": "code",
   "execution_count": 8,
   "metadata": {},
   "outputs": [],
   "source": [
    "# Node class\n",
    "class Node:\n",
    "\n",
    "    #function to initialize node object\n",
    "    def __init__(self, data):\n",
    "        self.data = data #assign data\n",
    "        self.next = None #initialize next as null\n",
    "\n",
    "# Linked List class\n",
    "class LinkedList:\n",
    "\n",
    "    #function to initialize linked list object\n",
    "    def __init__(self):\n",
    "        self.head = None\n",
    "\n",
    "    #function to print content of linked list starting from head\n",
    "    def printList(self):\n",
    "        temp = self.head\n",
    "        while(temp):\n",
    "            print(temp.data)\n",
    "            temp = temp.next"
   ]
  },
  {
   "cell_type": "code",
   "execution_count": 9,
   "metadata": {},
   "outputs": [],
   "source": [
    "# Creating a linked list of 3 nodes\n",
    "\n",
    "llist = LinkedList()\n",
    "llist.head = Node(1) #first node of linkedlist\n",
    "second = Node(2) #second node\n",
    "third = Node(3) #third node\n",
    "\n",
    "llist.head.next = second #first node's pointer points to second node\n",
    "second.next = third #third node's pointer points to third node"
   ]
  },
  {
   "cell_type": "code",
   "execution_count": 10,
   "metadata": {},
   "outputs": [
    {
     "name": "stdout",
     "output_type": "stream",
     "text": [
      "1\n",
      "2\n",
      "3\n"
     ]
    }
   ],
   "source": [
    "# Traversal of linked list\n",
    "llist.printList()\n"
   ]
  },
  {
   "attachments": {},
   "cell_type": "markdown",
   "metadata": {},
   "source": [
    "### Stack\n",
    "\n",
    "Linear data structure where a new element is added at one end and an element is removed from that end only. <br><br>\n",
    "Functions associated with stack: <ul>\n",
    "<li> <b>empty():</b> Returns whether stack is empty O(1)\n",
    "<li> <b>size():</b> Returns size of stack O(1)\n",
    "<li> <b>top():</b> Returns a reference to topmost element O(1)\n",
    "<li> <b>push():</b> Inserts element 'a' at top of stack O(1)\n",
    "<li> <b>pop():</b> Deletes topmost element O(1)\n",
    "\n",
    "![Alt text](images/stack.png)"
   ]
  },
  {
   "cell_type": "code",
   "execution_count": 13,
   "metadata": {},
   "outputs": [
    {
     "name": "stdout",
     "output_type": "stream",
     "text": [
      "h\n",
      "f\n",
      "['g']\n"
     ]
    }
   ],
   "source": [
    "stack = []\n",
    "\n",
    "#append() function to push element in stack\n",
    "stack.append('g') # g added on top of empty stack\n",
    "stack.append('f') # f added on top of g\n",
    "stack.append('h') # h added on top of f\n",
    "\n",
    "#pop() function to pop element from stack in LIFO order\n",
    "print(stack.pop()) #h removed from very top\n",
    "print(stack.pop()) #f removed from very top\n",
    "\n",
    "print(stack)"
   ]
  },
  {
   "attachments": {},
   "cell_type": "markdown",
   "metadata": {},
   "source": [
    "### Queue \n",
    "\n",
    "Linear data structures that stores items in FIFO manner. Least recently added item is removed first. \n",
    "Operations associated with queue are: <ul>\n",
    "<li><b>Enqueue:</b> Adds item to queue O(1)\n",
    "<li><b>Dequeue:</b> Removes item from queue O(1)\n",
    "<li><b>Front:</b> Get front item O(1)\n",
    "<li><b>Rear:</b> Get rear item O(1)"
   ]
  },
  {
   "cell_type": "code",
   "execution_count": 17,
   "metadata": {},
   "outputs": [
    {
     "name": "stdout",
     "output_type": "stream",
     "text": [
      "Initial Queue\n",
      "['g', 'f', 'h']\n",
      "g\n",
      "f\n",
      "h\n",
      "[]\n"
     ]
    }
   ],
   "source": [
    "queue = []\n",
    "\n",
    "#adding elements\n",
    "queue.append('g')\n",
    "queue.append('f')\n",
    "queue.append('h')\n",
    "\n",
    "print(\"Initial Queue\")\n",
    "print(queue)\n",
    "\n",
    "#Removing elements\n",
    "print(queue.pop(0))\n",
    "print(queue.pop(0))\n",
    "print(queue.pop(0))\n",
    "\n",
    "print(queue)"
   ]
  },
  {
   "attachments": {},
   "cell_type": "markdown",
   "metadata": {},
   "source": [
    "### Priority Queue\n",
    "\n",
    "Abstract data structure where each data/value in the queue has a certain priority. <br><br> Properties of a priority queue: <ul>\n",
    "<li> An element with high priority is dequeued before an element with low priority.\n",
    "<li> If two elements have same priority, they are served according to order in the queue."
   ]
  },
  {
   "cell_type": "code",
   "execution_count": 18,
   "metadata": {},
   "outputs": [],
   "source": [
    "class PriorityQueue(object):\n",
    "    def __init__(self):\n",
    "        self.queue = []\n",
    "\n",
    "    def __str__(self):\n",
    "        return ' '.join([str(i) for i in self.queue])\n",
    "    \n",
    "    #function to check if queue is empty\n",
    "\n",
    "    def isEmpty(self):\n",
    "        return len(self.queue) == 0\n",
    "    \n",
    "    #function to insert elements in queue\n",
    "\n",
    "    def insert(self, data):\n",
    "        self.queue.append(data)\n",
    "\n",
    "    #function to delete elements in queue (priority: higher value)\n",
    "    def delete(self):\n",
    "        try:\n",
    "            max = 0\n",
    "            for i in range(len(self.queue)):\n",
    "                if self.queue[i] > self.queue[max]:\n",
    "                    max = i\n",
    "            item = self.queue[max]\n",
    "            del self.queue[max]\n",
    "            return item\n",
    "        except IndexError:\n",
    "            print()\n",
    "            exit()"
   ]
  },
  {
   "cell_type": "code",
   "execution_count": 19,
   "metadata": {},
   "outputs": [
    {
     "name": "stdout",
     "output_type": "stream",
     "text": [
      "12 1 14 7\n",
      "14\n",
      "12\n",
      "7\n",
      "1\n"
     ]
    }
   ],
   "source": [
    "myQueue = PriorityQueue()\n",
    "myQueue.insert(12)\n",
    "myQueue.insert(1)\n",
    "myQueue.insert(14)\n",
    "myQueue.insert(7)\n",
    "print(myQueue)\n",
    "while not myQueue.isEmpty():\n",
    "    print(myQueue.delete())"
   ]
  },
  {
   "attachments": {},
   "cell_type": "markdown",
   "metadata": {},
   "source": [
    "### Heap\n",
    "\n",
    "heapq module in python provides the heap data structure mainly used to represent a priority queue. This data structure always gives the smallest element(min heap) whenever the element is popped. Whenever elements are pushed/popped, heap structure is maintained."
   ]
  },
  {
   "cell_type": "code",
   "execution_count": 20,
   "metadata": {},
   "outputs": [
    {
     "name": "stdout",
     "output_type": "stream",
     "text": [
      "[1, 3, 9, 7, 5]\n",
      "[1, 3, 4, 7, 5, 9]\n",
      "1\n"
     ]
    }
   ],
   "source": [
    "import heapq\n",
    "\n",
    "li = [5,7,9,1,3]\n",
    "\n",
    "#convert list into heap\n",
    "heapq.heapify(li)\n",
    "print(list(li))\n",
    "\n",
    "#push elements into heapq\n",
    "heapq.heappush(li, 4)\n",
    "print(list(li))\n",
    "\n",
    "#pop smallest element\n",
    "print(heapq.heappop(li))\n",
    "\n"
   ]
  }
 ],
 "metadata": {
  "kernelspec": {
   "display_name": "myenv",
   "language": "python",
   "name": "python3"
  },
  "language_info": {
   "codemirror_mode": {
    "name": "ipython",
    "version": 3
   },
   "file_extension": ".py",
   "mimetype": "text/x-python",
   "name": "python",
   "nbconvert_exporter": "python",
   "pygments_lexer": "ipython3",
   "version": "3.10.0"
  },
  "orig_nbformat": 4
 },
 "nbformat": 4,
 "nbformat_minor": 2
}
