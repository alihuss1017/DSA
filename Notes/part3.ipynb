{
 "cells": [
  {
   "attachments": {},
   "cell_type": "markdown",
   "metadata": {},
   "source": [
    "### Binary Tree\n",
    "\n",
    "Hierarchical data structure. Topmost node is called the root, bottommost node is called the leaf. <br>\n",
    "Properties of a binary tree node: <ul>\n",
    "<li> data \n",
    "<li> pointer to left child\n",
    "<li> pointer to right child\n",
    "<br>\n",
    "\n",
    "![Alt text](../images/binarytree.png)"
   ]
  },
  {
   "cell_type": "code",
   "execution_count": 2,
   "metadata": {},
   "outputs": [],
   "source": [
    "class Node:\n",
    "    def __init__(self, key):\n",
    "        self.left = None\n",
    "        self.right = None\n",
    "        self.val = key\n",
    "\n",
    "root = Node(1) # creates root \n",
    "root.left = Node(2) # 2 is the left child of the root (1)\n",
    "root.right = Node(3) # 3 is the right child of the root (1)\n",
    "root.left.left = Node(4) # 4 is the left child of the left child of the root "
   ]
  },
  {
   "attachments": {},
   "cell_type": "markdown",
   "metadata": {},
   "source": [
    "Tree traversal methods: <ul>\n",
    "<li><b>Inorder:</b> Traverse left subtree, visit root, traverse right subtree.\n",
    "<li><b>Preorder:</b> Visit root, traverse left subtree, traverse right subtree.\n",
    "<li><b>Postorder:</b> Traverse left subtree, traverse right subtree, visit root.\n",
    "<li><b>Levelorder:</b> Visit node, child nodes in FIFO queue.\n"
   ]
  },
  {
   "cell_type": "code",
   "execution_count": 20,
   "metadata": {},
   "outputs": [],
   "source": [
    "# Tree traversal time complexity: O(n)\n",
    "\n",
    "#function to do inorder tree traversal\n",
    "def printInorder(root):\n",
    "    if root:\n",
    "        printInorder(root.left)\n",
    "\n",
    "        print(root.val)\n",
    "\n",
    "        printInorder(root.right)\n",
    "\n",
    "def printPostorder(root):\n",
    "    if root:\n",
    "        printPostorder(root.left)\n",
    "        \n",
    "        printPostorder(root.right)\n",
    "\n",
    "        print(root.val)\n",
    "\n",
    "def printPreorder(root):\n",
    "    \n",
    "    if root:\n",
    "\n",
    "        print(root.val)\n",
    "\n",
    "        printPreorder(root.left)\n",
    "\n",
    "        printPreorder(root.right)\n",
    "\n",
    "root = Node(1)\n",
    "root.left = Node(2)\n",
    "root.right = Node(3)\n",
    "root.left.left = Node(4)\n",
    "root.left.right = Node(5)"
   ]
  },
  {
   "cell_type": "code",
   "execution_count": 21,
   "metadata": {},
   "outputs": [
    {
     "name": "stdout",
     "output_type": "stream",
     "text": [
      "Preorder teraversal:\n",
      "1\n",
      "2\n",
      "4\n",
      "5\n",
      "3\n"
     ]
    }
   ],
   "source": [
    "# Preorder traversal\n",
    "print(\"Preorder teraversal:\")\n",
    "printPreorder(root)"
   ]
  },
  {
   "cell_type": "code",
   "execution_count": 22,
   "metadata": {},
   "outputs": [
    {
     "name": "stdout",
     "output_type": "stream",
     "text": [
      "Inorder traversal:\n",
      "4\n",
      "2\n",
      "5\n",
      "1\n",
      "3\n"
     ]
    }
   ],
   "source": [
    "#Inorder traversal\n",
    "print(\"Inorder traversal:\")\n",
    "printInorder(root)"
   ]
  },
  {
   "cell_type": "code",
   "execution_count": 23,
   "metadata": {},
   "outputs": [
    {
     "name": "stdout",
     "output_type": "stream",
     "text": [
      "Postorder traversal:\n",
      "4\n",
      "5\n",
      "2\n",
      "3\n",
      "1\n"
     ]
    }
   ],
   "source": [
    "#Postorder traversal\n",
    "print(\"Postorder traversal:\")\n",
    "printPostorder(root)"
   ]
  },
  {
   "cell_type": "code",
   "execution_count": 25,
   "metadata": {},
   "outputs": [
    {
     "name": "stdout",
     "output_type": "stream",
     "text": [
      "Level Order Traversal:\n",
      "1\n",
      "2\n",
      "3\n",
      "4\n",
      "5\n"
     ]
    }
   ],
   "source": [
    "# Level order traversal\n",
    "def printLevelOrder(root):\n",
    "    if root is None:\n",
    "        return\n",
    "\n",
    "    queue = []\n",
    "\n",
    "    queue.append(root)\n",
    "\n",
    "    while(len(queue) > 0):\n",
    "        print(queue[0].val)\n",
    "        node = queue.pop(0)\n",
    "\n",
    "        if node.left is not None:\n",
    "            queue.append(node.left)\n",
    "\n",
    "        if node.right is not None:\n",
    "            queue.append(node.right)\n",
    "\n",
    "\n",
    "print(\"Level Order Traversal:\")\n",
    "printLevelOrder(root)"
   ]
  },
  {
   "attachments": {},
   "cell_type": "markdown",
   "metadata": {},
   "source": [
    "### Binary Search Tree\n",
    "\n",
    "<ul>\n",
    "<li> Left subtree of a node contains only nodes with keys <b>less</b> than the node's key.\n",
    "<li> Right subtree of a node contains only nodes with keys <b>greater</b> than the node's key.\n",
    "\n",
    "![Alt text](images/bst.png)\n",
    "\n",
    "<b> Searching Element</b> <ul>\n",
    "<li> Start from root.\n",
    "<li> Compare searching element with root. If less than root, then recurse for left, else for right.\n",
    "<li> If the element to search is found anywhere, return true, else return false."
   ]
  },
  {
   "cell_type": "code",
   "execution_count": null,
   "metadata": {},
   "outputs": [],
   "source": [
    "def search(root, key):\n",
    "    if root is None or root.val == key:\n",
    "        return root\n",
    "    \n",
    "    if root.val < key:\n",
    "        return search(root.right, key)\n",
    "    \n",
    "    return search(root.left, key)"
   ]
  },
  {
   "attachments": {},
   "cell_type": "markdown",
   "metadata": {},
   "source": [
    "<b> Insertion of a key </b><ul>\n",
    "<li>Start from root.\n",
    "<li>Compare searching element with root. If less than root, recurse for left, else for right.\n",
    "<li> If element to search is found anywhere, return true, else return false. "
   ]
  },
  {
   "cell_type": "code",
   "execution_count": 26,
   "metadata": {},
   "outputs": [
    {
     "name": "stdout",
     "output_type": "stream",
     "text": [
      "20\n",
      "30\n",
      "40\n",
      "50\n",
      "60\n",
      "70\n",
      "80\n"
     ]
    }
   ],
   "source": [
    "def insert(root, key):\n",
    "    if root is None:\n",
    "        return Node(key)\n",
    "    else:\n",
    "        if root.val == key:\n",
    "            return root\n",
    "        elif root.val < key:\n",
    "            root.right = insert(root.right, key)\n",
    "        else:\n",
    "            root.left = insert(root.left, key)\n",
    "    return root\n",
    "\n",
    "r = Node(50)\n",
    "r = insert(r, 30)\n",
    "r = insert(r, 20)\n",
    "r = insert(r, 40)\n",
    "r = insert(r, 70)\n",
    "r = insert(r, 60)\n",
    "r = insert(r, 80)\n",
    "\n",
    "#print inorder traversal of BST\n",
    "printInorder(r)"
   ]
  }
 ],
 "metadata": {
  "kernelspec": {
   "display_name": "myenv",
   "language": "python",
   "name": "python3"
  },
  "language_info": {
   "codemirror_mode": {
    "name": "ipython",
    "version": 3
   },
   "file_extension": ".py",
   "mimetype": "text/x-python",
   "name": "python",
   "nbconvert_exporter": "python",
   "pygments_lexer": "ipython3",
   "version": "3.10.0"
  },
  "orig_nbformat": 4
 },
 "nbformat": 4,
 "nbformat_minor": 2
}
